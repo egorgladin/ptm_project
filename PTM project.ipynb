{
 "cells": [
  {
   "cell_type": "code",
   "execution_count": 156,
   "metadata": {},
   "outputs": [],
   "source": [
    "import json\n",
    "# import artm\n",
    "# import numpy as np\n",
    "# import matplotlib.pyplot as plt\n",
    "# from sklearn.model_selection import train_test_split\n",
    "# from sklearn.metrics import f1_score\n",
    "# from sklearn.linear_model import LogisticRegression\n",
    "# from sklearn.svm import SVC\n",
    "# from collections import Counter\n",
    "# from itertools import product\n",
    "# from tqdm import tqdm\n",
    "# import pickle\n",
    "# import warnings\n",
    "# warnings.filterwarnings(\"ignore\", category=DeprecationWarning)\n"
   ]
  },
  {
   "cell_type": "markdown",
   "metadata": {},
   "source": [
    "### Load collection"
   ]
  },
  {
   "cell_type": "code",
   "execution_count": null,
   "metadata": {},
   "outputs": [],
   "source": [
    "train_file = 'train'\n",
    "labels = []\n",
    "texts = []\n",
    "with open('train', 'r') as train:\n",
    "    for i, line in enumerate(train):\n",
    "        sample = json.loads(line)\n",
    "        labels.append(sample['label'])\n",
    "        texts.append(sample['text'].split())"
   ]
  },
  {
   "cell_type": "code",
   "execution_count": 119,
   "metadata": {},
   "outputs": [
    {
     "name": "stdout",
     "output_type": "stream",
     "text": [
      "Number of documents: 650000, labels: {1, 2, 3, 4, 5}\n"
     ]
    }
   ],
   "source": [
    "print(f'Number of documents: {len(texts)}, labels: {set(labels)}')"
   ]
  },
  {
   "cell_type": "code",
   "execution_count": 49,
   "metadata": {
    "scrolled": true
   },
   "outputs": [
    {
     "data": {
      "text/plain": [
       "['dr',\n",
       " 'goldberg',\n",
       " 'offer',\n",
       " 'everything',\n",
       " 'look',\n",
       " 'general',\n",
       " 'practitioner',\n",
       " 'nice',\n",
       " 'easy',\n",
       " 'talk']"
      ]
     },
     "execution_count": 49,
     "metadata": {},
     "output_type": "execute_result"
    }
   ],
   "source": [
    "texts[0][:10]"
   ]
  },
  {
   "cell_type": "code",
   "execution_count": null,
   "metadata": {},
   "outputs": [],
   "source": [
    "i = 0\n",
    "for text in texts:\n",
    "    if 'go' in text:\n",
    "        i += 1\n",
    "        print(text)\n",
    "    if i > 5:\n",
    "        break"
   ]
  },
  {
   "cell_type": "markdown",
   "metadata": {},
   "source": [
    "### Delete uninformative words"
   ]
  },
  {
   "cell_type": "code",
   "execution_count": 51,
   "metadata": {
    "scrolled": true
   },
   "outputs": [
    {
     "data": {
      "text/plain": [
       "[('n', 287931),\n",
       " ('go', 278010),\n",
       " ('get', 275094),\n",
       " ('place', 270373),\n",
       " ('good', 249486),\n",
       " ('food', 243176),\n",
       " ('like', 217516),\n",
       " ('would', 209847),\n",
       " ('time', 205797),\n",
       " ('one', 189008),\n",
       " ('service', 187710),\n",
       " ('come', 177887),\n",
       " ('great', 176751),\n",
       " ('back', 166143),\n",
       " ('make', 158980),\n",
       " ('order', 156464),\n",
       " ('really', 147502),\n",
       " ('say', 142458),\n",
       " ('try', 140430),\n",
       " ('take', 135825),\n",
       " ('even', 120517),\n",
       " ('want', 117885),\n",
       " ('give', 117636),\n",
       " ('look', 116667),\n",
       " ('think', 115042),\n",
       " ('could', 114988),\n",
       " ('ni', 114922),\n",
       " ('also', 111680),\n",
       " ('nthe', 108726),\n",
       " ('nice', 107045)]"
      ]
     },
     "execution_count": 51,
     "metadata": {},
     "output_type": "execute_result"
    }
   ],
   "source": [
    "token_to_counter = Counter()\n",
    "for text in texts:\n",
    "    token_to_counter.update(set(text))\n",
    "\n",
    "token_to_counter.most_common(30)"
   ]
  },
  {
   "cell_type": "code",
   "execution_count": 61,
   "metadata": {},
   "outputs": [],
   "source": [
    "stopwords = set(['n', 'go', 'get', 'even', 'ni', 'also', 'nthe'])\n",
    "\n",
    "for i, text in enumerate(texts):\n",
    "    texts[i] = [t for t in text if t not in stopwords]"
   ]
  },
  {
   "cell_type": "code",
   "execution_count": 120,
   "metadata": {},
   "outputs": [
    {
     "name": "stdout",
     "output_type": "stream",
     "text": [
      "Train len: 455000, val len: 195000\n"
     ]
    }
   ],
   "source": [
    "train_texts, val_texts, train_target, val_target = train_test_split(texts, labels, test_size=0.3,\n",
    "                                                                    random_state=42, stratify=labels)\n",
    "print(f'Train len: {len(train_texts)}, val len: {len(val_texts)}')"
   ]
  },
  {
   "cell_type": "markdown",
   "metadata": {},
   "source": [
    "### Use VowpalWabbit format"
   ]
  },
  {
   "cell_type": "code",
   "execution_count": 121,
   "metadata": {},
   "outputs": [],
   "source": [
    "train_vw_file = 'train_vw'\n",
    "val_vw_file = 'val_vw'"
   ]
  },
  {
   "cell_type": "code",
   "execution_count": 122,
   "metadata": {},
   "outputs": [],
   "source": [
    "with open(train_vw_file, 'w') as train_vw:\n",
    "    for i, text in enumerate(train_texts):\n",
    "        train_vw.write(f'doc_{i} ' + ' '.join(text) + '\\n')\n",
    "\n",
    "with open(val_vw_file, 'w') as val_vw:\n",
    "    for i, text in enumerate(val_texts):\n",
    "        val_vw.write(f'doc_{i} ' + ' '.join(text) + '\\n')"
   ]
  },
  {
   "cell_type": "code",
   "execution_count": 123,
   "metadata": {
    "scrolled": false
   },
   "outputs": [
    {
     "name": "stdout",
     "output_type": "stream",
     "text": [
      "doc_0 first sonic burger yesterday expect sonic blast w reese damn though\r\n",
      "doc_1 lot inventory damage disorganize place everything thin coat dirt counter\r\n",
      "doc_2 place awesome today hubby price kid jump hour military discount thank skyzone support troops blast together age fun perfect birthday party venue see couple without kid athletic date outing dress accordingly break sweat suggestion bench seat entrance jump zone least kid zone newborn plus watch kid nowhere sit stand whole time baby food court area cool selection though bring lot business jump enjoy yummy frozen yogurt price lot addon noverall definitely love place often family fun\r\n"
     ]
    }
   ],
   "source": [
    "!head -n3 train_vw"
   ]
  },
  {
   "cell_type": "markdown",
   "metadata": {},
   "source": [
    "### Create model"
   ]
  },
  {
   "cell_type": "code",
   "execution_count": 124,
   "metadata": {},
   "outputs": [],
   "source": [
    "bv_train = artm.BatchVectorizer(data_path=train_vw_file, data_format='vowpal_wabbit',\n",
    "                                batch_size=10000, target_folder='batches/train')\n",
    "bv_val = artm.BatchVectorizer(data_path=val_vw_file, data_format='vowpal_wabbit',\n",
    "                              batch_size=10000, target_folder='batches/val')"
   ]
  },
  {
   "cell_type": "code",
   "execution_count": null,
   "metadata": {},
   "outputs": [],
   "source": [
    "from functools import partial\n",
    "get_artm = partial(artm.ARTM, dictionary=bv_train.dictionary, class_ids={'@default_class': 1.0})"
   ]
  },
  {
   "cell_type": "code",
   "execution_count": 125,
   "metadata": {},
   "outputs": [],
   "source": [
    "model = artm.ARTM(num_topics=10, num_document_passes=3, dictionary=bv_train.dictionary,\n",
    "                  class_ids={'@default_class': 1.0}, cache_theta=True)\n",
    "model.scores.add(artm.PerplexityScore(name='perplexity', dictionary=bv_train.dictionary))\n",
    "model.scores.add(artm.TopTokensScore(name='top-tokens', num_tokens=10))"
   ]
  },
  {
   "cell_type": "code",
   "execution_count": 67,
   "metadata": {},
   "outputs": [
    {
     "name": "stdout",
     "output_type": "stream",
     "text": [
      "Iter #0, perplexity: 313523.28125\n",
      "Iter #1, perplexity: 2586.05908203125\n",
      "Iter #2, perplexity: 2566.085205078125\n",
      "Iter #3, perplexity: 2519.105224609375\n",
      "Iter #4, perplexity: 2464.97314453125\n",
      "Iter #5, perplexity: 2401.595703125\n",
      "Iter #6, perplexity: 2320.114501953125\n",
      "Iter #7, perplexity: 2236.48388671875\n",
      "Iter #8, perplexity: 2164.56103515625\n",
      "Iter #9, perplexity: 2106.6015625\n",
      "Iter #10, perplexity: 2060.53662109375\n",
      "Iter #11, perplexity: 2023.7037353515625\n",
      "Iter #12, perplexity: 1993.849609375\n",
      "Iter #13, perplexity: 1969.435302734375\n",
      "Iter #14, perplexity: 1949.4158935546875\n",
      "Iter #15, perplexity: 1932.9022216796875\n"
     ]
    }
   ],
   "source": [
    "for i in range(20):\n",
    "    model.fit_offline(bv_train, num_collection_passes=1)\n",
    "    print(f'Iter #{i}, perplexity: {model.score_tracker[\"perplexity\"].last_value:.2f}')"
   ]
  },
  {
   "cell_type": "code",
   "execution_count": 127,
   "metadata": {
    "scrolled": true
   },
   "outputs": [
    {
     "name": "stdout",
     "output_type": "stream",
     "text": [
      "['room', 'stay', 'hotel', 'vegas', 'night', 'strip', 'free', 'like', 'clean', 'nice']\n",
      "['hour', 'happy', 'service', 'look', 'close', 'new', 'amazing', 'year', 'time', 'cut']\n",
      "['tell', 'call', 'take', 'say', 'time', 'show', 'customer', 'ask', 'work', 'never']\n",
      "['place', 'drink', 'bar', 'friend', 'pretty', 'beer', 'people', 'see', 'time', 'night']\n",
      "['chicken', 'burger', 'sauce', 'order', 'eat', 'like', 'fries', 'dish', 'roll', 'sushi']\n",
      "['pizza', 'order', 'cheese', 'small', 'star', 'two', 'give', 'want', 'eat', 'think']\n",
      "['food', 'service', 'restaurant', 'menu', 'table', 'time', 'meal', 'taco', 'nothing', 'seat']\n",
      "['come', 'place', 'order', 'say', 'wait', 'like', 'take', 'minute', 'make', 'time']\n",
      "['little', 'buffet', 'breakfast', 'coffee', 'dessert', 'like', 'cream', 'ice', 'try', 'worth']\n",
      "['find', 'location', 'store', 'like', 'price', 'love', 'look', 'shop', 'need', 'buy']\n"
     ]
    }
   ],
   "source": [
    "top_tokens = model.score_tracker['top-tokens'].last_tokens\n",
    "\n",
    "for topic_name in model.topic_names:\n",
    "    print(top_tokens[topic_name])"
   ]
  },
  {
   "cell_type": "markdown",
   "metadata": {},
   "source": [
    "## Classification"
   ]
  },
  {
   "cell_type": "code",
   "execution_count": 192,
   "metadata": {},
   "outputs": [],
   "source": [
    "class ARTM:\n",
    "    def __init__(self, dct, n_topics=10, portion_back=None, tau_back=None, tau_sparse=None, tau_decor=None):\n",
    "        model = artm.ARTM(num_topics=n_topics, num_document_passes=3, dictionary=dct,\n",
    "                          class_ids={'@default_class': 1.0})\n",
    "        model.scores.add(artm.PerplexityScore(name='perplexity', dictionary=dct))\n",
    "        model.scores.add(artm.TopTokensScore(name='top-tokens', num_tokens=10))\n",
    "        model.scores.add(artm.SparsityPhiScore(name='sparsity'))\n",
    "        \n",
    "        if tau_back is not None:\n",
    "            n_back = int(n_topics * portion_back)\n",
    "            model.regularizers.add(artm.SmoothSparsePhiRegularizer(name='smooth', tau=tau_back,\n",
    "                                                                   dictionary=dct,\n",
    "                                                                   topic_names=model.topic_names[:n_back]))\n",
    "        if tau_sparse is not None:\n",
    "            model.regularizers.add(artm.SmoothSparsePhiRegularizer(name='sparse', tau=tau_sparse,\n",
    "                                                                   dictionary=dct,\n",
    "                                                                   topic_names=model.topic_names[n_back:]))\n",
    "        if tau_decor is not None:\n",
    "            model.regularizers.add(artm.DecorrelatorPhiRegularizer(name='decorrelator', tau=tau_decor))\n",
    "        \n",
    "        self.model = model\n",
    "        \n",
    "    def fit(self, bv, y=None):\n",
    "        self.model.fit_offline(bv, num_collection_passes=20)\n",
    "        return self\n",
    "        \n",
    "    def transform(self, bv, y=None):\n",
    "        X = self.model.transform(batch_vectorizer=bv).T.to_numpy()\n",
    "        return X"
   ]
  },
  {
   "cell_type": "code",
   "execution_count": 193,
   "metadata": {},
   "outputs": [],
   "source": [
    "from sklearn.pipeline import Pipeline"
   ]
  },
  {
   "cell_type": "code",
   "execution_count": 195,
   "metadata": {},
   "outputs": [
    {
     "ename": "NameError",
     "evalue": "name 'SVC' is not defined",
     "output_type": "error",
     "traceback": [
      "\u001B[0;31m---------------------------------------------------------------------------\u001B[0m",
      "\u001B[0;31mNameError\u001B[0m                                 Traceback (most recent call last)",
      "\u001B[0;32m<ipython-input-195-5c92bf181216>\u001B[0m in \u001B[0;36m<module>\u001B[0;34m\u001B[0m\n\u001B[1;32m      1\u001B[0m artm_svc = Pipeline([\n\u001B[1;32m      2\u001B[0m     \u001B[0;34m(\u001B[0m\u001B[0;34m'artm'\u001B[0m\u001B[0;34m,\u001B[0m \u001B[0mARTM\u001B[0m\u001B[0;34m(\u001B[0m\u001B[0mbv_train\u001B[0m\u001B[0;34m.\u001B[0m\u001B[0mdictionary\u001B[0m\u001B[0;34m)\u001B[0m\u001B[0;34m)\u001B[0m\u001B[0;34m,\u001B[0m\u001B[0;34m\u001B[0m\u001B[0;34m\u001B[0m\u001B[0m\n\u001B[0;32m----> 3\u001B[0;31m     ('svc', SVC())])\n\u001B[0m",
      "\u001B[0;31mNameError\u001B[0m: name 'SVC' is not defined"
     ]
    }
   ],
   "source": [
    "artm_svc = Pipeline([\n",
    "    ('artm', ARTM(bv_train.dictionary)),\n",
    "    ('svc', SVC())])"
   ]
  },
  {
   "cell_type": "code",
   "execution_count": null,
   "metadata": {},
   "outputs": [],
   "source": []
  },
  {
   "cell_type": "code",
   "execution_count": 136,
   "metadata": {},
   "outputs": [],
   "source": [
    "def get_model(bv, n_topics, portion_back=None, tau_back=None, tau_sparse=None, tau_decor=None):\n",
    "    model = artm.ARTM(num_topics=n_topics, num_document_passes=3, dictionary=bv.dictionary,\n",
    "                      class_ids={'@default_class': 1.0})\n",
    "    model.scores.add(artm.PerplexityScore(name='perplexity', dictionary=bv.dictionary))\n",
    "    model.scores.add(artm.TopTokensScore(name='top-tokens', num_tokens=10))\n",
    "    model.scores.add(artm.SparsityPhiScore(name='sparsity'))\n",
    "    \n",
    "    if portion_back is not None:\n",
    "        n_back = int(n_topics * portion_back)\n",
    "        model.regularizers.add(artm.SmoothSparsePhiRegularizer(name='smooth', tau=tau_back,\n",
    "                                                               dictionary=bv.dictionary,\n",
    "                                                               topic_names=model.topic_names[:n_back]))\n",
    "    if tau_sparse is not None:\n",
    "        model.regularizers.add(artm.SmoothSparsePhiRegularizer(name='sparse', tau=tau_sparse,\n",
    "                                                               dictionary=bv.dictionary,\n",
    "                                                               topic_names=model.topic_names[n_back:]))\n",
    "        model.regularizers.add(artm.DecorrelatorPhiRegularizer(name='decorrelator', tau=tau_decor))\n",
    "\n",
    "    model.fit_offline(bv, num_collection_passes=20)\n",
    "    parameters = {'n_topics': n_topics, 'portion_back': portion_back, 'tau_back': tau_back,\n",
    "                  'tau_sparse': tau_sparse, 'tau_decor': tau_decor}\n",
    "    return model, parameters"
   ]
  },
  {
   "cell_type": "code",
   "execution_count": 143,
   "metadata": {},
   "outputs": [],
   "source": [
    "def classify(artm_model, bv_train, bv_val, cls, train_target, val_target):\n",
    "    train_X = artm_model.transform(batch_vectorizer=bv_train).T.to_numpy()\n",
    "    val_X = artm_model.transform(batch_vectorizer=bv_val).T.to_numpy()\n",
    "    cls.fit(X=train_X, y=train_target)\n",
    "    return f1_score(y_true=val_target, y_pred=cls.predict(X=val_X), average='micro')"
   ]
  },
  {
   "cell_type": "code",
   "execution_count": 138,
   "metadata": {},
   "outputs": [],
   "source": [
    "N_topics = [10, 20]\n",
    "\n",
    "taus_back = [1e2, 1e3]\n",
    "portions_back = [0.1, 0.2, 0.3, 0.4]\n",
    "taus_sparse = [1e2, 1e3]\n",
    "taus_decor = [1e5, 1e6]\n",
    "\n",
    "classifiers = ['LogReg', 'SVM']\n",
    "name_to_cls = {'LogReg': LogisticRegression(), 'SVM': LinearSVC()}"
   ]
  },
  {
   "cell_type": "markdown",
   "metadata": {},
   "source": [
    "### No regularization"
   ]
  },
  {
   "cell_type": "code",
   "execution_count": 144,
   "metadata": {},
   "outputs": [
    {
     "name": "stderr",
     "output_type": "stream",
     "text": [
      "4it [16:43, 250.83s/it]\n"
     ]
    }
   ],
   "source": [
    "results = []\n",
    "grid = product(N_topics, classifiers)\n",
    "for n_topics, cls_name in tqdm(grid):\n",
    "    model, parameters = get_model(bv_train, n_topics)\n",
    "    parameters['cls'] = cls_name\n",
    "    f1 = classify(model, bv_train, bv_val, name_to_cls[cls_name], train_target, val_target)\n",
    "    top_tokens = model.score_tracker['top-tokens'].last_tokens\n",
    "    result = {'parameters': parameters,\n",
    "              'perplexity': model.score_tracker[\"perplexity\"].value,\n",
    "              'sparsity': model.score_tracker[\"sparsity\"].value,\n",
    "              'top-tokens': [top_tokens[topic_name] for topic_name in model.topic_names],\n",
    "              'f1': f1}\n",
    "    results.append(result)"
   ]
  },
  {
   "cell_type": "code",
   "execution_count": 157,
   "metadata": {},
   "outputs": [],
   "source": [
    "results_dir = 'results'\n",
    "with open(f'{results_dir}/result_noreg.pickle', 'wb') as handle:\n",
    "    pickle.dump(results, handle)"
   ]
  },
  {
   "cell_type": "code",
   "execution_count": 158,
   "metadata": {
    "scrolled": false
   },
   "outputs": [
    {
     "data": {
      "text/plain": [
       "{'n_topics': 10,\n",
       " 'portion_back': None,\n",
       " 'tau_back': None,\n",
       " 'tau_sparse': None,\n",
       " 'tau_decor': None,\n",
       " 'cls': 'LogReg'}"
      ]
     },
     "execution_count": 158,
     "metadata": {},
     "output_type": "execute_result"
    }
   ],
   "source": [
    "results[0]['parameters']"
   ]
  },
  {
   "cell_type": "code",
   "execution_count": 166,
   "metadata": {
    "scrolled": true
   },
   "outputs": [
    {
     "data": {
      "text/plain": [
       "Text(0, 0.5, 'Perplexity')"
      ]
     },
     "execution_count": 166,
     "metadata": {},
     "output_type": "execute_result"
    },
    {
     "data": {
      "image/png": "[encoded data removed]",
      "text/plain": [
       "<Figure size 432x288 with 1 Axes>"
      ]
     },
     "metadata": {
      "needs_background": "light"
     },
     "output_type": "display_data"
    }
   ],
   "source": [
    "plt.plot(range(1, 20), results[0]['perplexity'][1:], label=\"10 topics\")\n",
    "plt.plot(range(1, 20), results[2]['perplexity'][1:], label=\"20 topics\")\n",
    "plt.xlabel(\"Iteration number\")\n",
    "plt.ylabel(\"Perplexity\")\n",
    "plt.legend()\n",
    "plt.show()"
   ]
  },
  {
   "cell_type": "code",
   "execution_count": 163,
   "metadata": {
    "scrolled": true
   },
   "outputs": [
    {
     "data": {
      "text/plain": [
       "Text(0, 0.5, 'Sparsity')"
      ]
     },
     "execution_count": 163,
     "metadata": {},
     "output_type": "execute_result"
    },
    {
     "data": {
      "image/png": "[encoded data removed]",
      "text/plain": [
       "<Figure size 432x288 with 1 Axes>"
      ]
     },
     "metadata": {
      "needs_background": "light"
     },
     "output_type": "display_data"
    }
   ],
   "source": [
    "plt.plot(results[0]['sparsity'], label=\"10 topics\")\n",
    "plt.plot(results[2]['sparsity'], label=\"20 topics\")\n",
    "plt.xlabel(\"Iteration number\")\n",
    "plt.ylabel(\"Sparsity\")\n",
    "plt.legend()\n",
    "plt.show()"
   ]
  },
  {
   "cell_type": "code",
   "execution_count": 173,
   "metadata": {
    "scrolled": false
   },
   "outputs": [
    {
     "name": "stdout",
     "output_type": "stream",
     "text": [
      "F1 score for LogReg, 10 topics: 0.1992\n",
      "F1 score for SVM, 10 topics: 0.1993\n",
      "F1 score for LogReg, 20 topics: 0.1988\n",
      "F1 score for SVM, 20 topics: 0.1988\n"
     ]
    }
   ],
   "source": [
    "for res in results:\n",
    "    print(f\"F1 score for {res['parameters']['cls']}, {res['parameters']['n_topics']} topics: {res['f1']:.4f}\")"
   ]
  },
  {
   "cell_type": "markdown",
   "metadata": {},
   "source": [
    "## Adding background topics"
   ]
  },
  {
   "cell_type": "code",
   "execution_count": 190,
   "metadata": {
    "scrolled": true
   },
   "outputs": [
    {
     "name": "stderr",
     "output_type": "stream",
     "text": [
      "12it [56:43, 283.63s/it]\n"
     ]
    },
    {
     "ename": "KeyboardInterrupt",
     "evalue": "",
     "output_type": "error",
     "traceback": [
      "\u001B[0;31m---------------------------------------------------------------------------\u001B[0m",
      "\u001B[0;31mKeyboardInterrupt\u001B[0m                         Traceback (most recent call last)",
      "\u001B[0;32m<ipython-input-190-a9b81e62abc2>\u001B[0m in \u001B[0;36m<module>\u001B[0;34m\u001B[0m\n\u001B[1;32m      2\u001B[0m \u001B[0mgrid\u001B[0m \u001B[0;34m=\u001B[0m \u001B[0mproduct\u001B[0m\u001B[0;34m(\u001B[0m\u001B[0mN_topics\u001B[0m\u001B[0;34m,\u001B[0m \u001B[0mclassifiers\u001B[0m\u001B[0;34m,\u001B[0m \u001B[0;34m[\u001B[0m\u001B[0;36m1e3\u001B[0m\u001B[0;34m]\u001B[0m\u001B[0;34m,\u001B[0m \u001B[0mportions_back\u001B[0m\u001B[0;34m)\u001B[0m\u001B[0;34m\u001B[0m\u001B[0;34m\u001B[0m\u001B[0m\n\u001B[1;32m      3\u001B[0m \u001B[0;32mfor\u001B[0m \u001B[0mn_topics\u001B[0m\u001B[0;34m,\u001B[0m \u001B[0mcls_name\u001B[0m\u001B[0;34m,\u001B[0m \u001B[0mtau_back\u001B[0m\u001B[0;34m,\u001B[0m \u001B[0mportion_back\u001B[0m \u001B[0;32min\u001B[0m \u001B[0mtqdm\u001B[0m\u001B[0;34m(\u001B[0m\u001B[0mgrid\u001B[0m\u001B[0;34m)\u001B[0m\u001B[0;34m:\u001B[0m\u001B[0;34m\u001B[0m\u001B[0;34m\u001B[0m\u001B[0m\n\u001B[0;32m----> 4\u001B[0;31m     \u001B[0mmodel\u001B[0m\u001B[0;34m,\u001B[0m \u001B[0mparameters\u001B[0m \u001B[0;34m=\u001B[0m \u001B[0mget_model\u001B[0m\u001B[0;34m(\u001B[0m\u001B[0mbv_train\u001B[0m\u001B[0;34m,\u001B[0m \u001B[0mn_topics\u001B[0m\u001B[0;34m,\u001B[0m \u001B[0mportion_back\u001B[0m\u001B[0;34m=\u001B[0m\u001B[0mportion_back\u001B[0m\u001B[0;34m,\u001B[0m \u001B[0mtau_back\u001B[0m\u001B[0;34m=\u001B[0m\u001B[0mtau_back\u001B[0m\u001B[0;34m)\u001B[0m\u001B[0;34m\u001B[0m\u001B[0;34m\u001B[0m\u001B[0m\n\u001B[0m\u001B[1;32m      5\u001B[0m     \u001B[0mparameters\u001B[0m\u001B[0;34m[\u001B[0m\u001B[0;34m'cls'\u001B[0m\u001B[0;34m]\u001B[0m \u001B[0;34m=\u001B[0m \u001B[0mcls_name\u001B[0m\u001B[0;34m\u001B[0m\u001B[0;34m\u001B[0m\u001B[0m\n\u001B[1;32m      6\u001B[0m     \u001B[0mf1\u001B[0m \u001B[0;34m=\u001B[0m \u001B[0mclassify\u001B[0m\u001B[0;34m(\u001B[0m\u001B[0mmodel\u001B[0m\u001B[0;34m,\u001B[0m \u001B[0mbv_train\u001B[0m\u001B[0;34m,\u001B[0m \u001B[0mbv_val\u001B[0m\u001B[0;34m,\u001B[0m \u001B[0mname_to_cls\u001B[0m\u001B[0;34m[\u001B[0m\u001B[0mcls_name\u001B[0m\u001B[0;34m]\u001B[0m\u001B[0;34m,\u001B[0m \u001B[0mtrain_target\u001B[0m\u001B[0;34m,\u001B[0m \u001B[0mval_target\u001B[0m\u001B[0;34m)\u001B[0m\u001B[0;34m\u001B[0m\u001B[0;34m\u001B[0m\u001B[0m\n",
      "\u001B[0;32m<ipython-input-136-60dda5a826eb>\u001B[0m in \u001B[0;36mget_model\u001B[0;34m(bv, n_topics, portion_back, tau_back, tau_sparse, tau_decor)\u001B[0m\n\u001B[1;32m     17\u001B[0m         \u001B[0mmodel\u001B[0m\u001B[0;34m.\u001B[0m\u001B[0mregularizers\u001B[0m\u001B[0;34m.\u001B[0m\u001B[0madd\u001B[0m\u001B[0;34m(\u001B[0m\u001B[0martm\u001B[0m\u001B[0;34m.\u001B[0m\u001B[0mDecorrelatorPhiRegularizer\u001B[0m\u001B[0;34m(\u001B[0m\u001B[0mname\u001B[0m\u001B[0;34m=\u001B[0m\u001B[0;34m'decorrelator'\u001B[0m\u001B[0;34m,\u001B[0m \u001B[0mtau\u001B[0m\u001B[0;34m=\u001B[0m\u001B[0mtau_decor\u001B[0m\u001B[0;34m)\u001B[0m\u001B[0;34m)\u001B[0m\u001B[0;34m\u001B[0m\u001B[0;34m\u001B[0m\u001B[0m\n\u001B[1;32m     18\u001B[0m \u001B[0;34m\u001B[0m\u001B[0m\n\u001B[0;32m---> 19\u001B[0;31m     \u001B[0mmodel\u001B[0m\u001B[0;34m.\u001B[0m\u001B[0mfit_offline\u001B[0m\u001B[0;34m(\u001B[0m\u001B[0mbv\u001B[0m\u001B[0;34m,\u001B[0m \u001B[0mnum_collection_passes\u001B[0m\u001B[0;34m=\u001B[0m\u001B[0;36m20\u001B[0m\u001B[0;34m)\u001B[0m\u001B[0;34m\u001B[0m\u001B[0;34m\u001B[0m\u001B[0m\n\u001B[0m\u001B[1;32m     20\u001B[0m     parameters = {'n_topics': n_topics, 'portion_back': portion_back, 'tau_back': tau_back,\n\u001B[1;32m     21\u001B[0m                   'tau_sparse': tau_sparse, 'tau_decor': tau_decor}\n",
      "\u001B[0;32m~/.local/lib/python3.7/site-packages/artm/artm_model.py\u001B[0m in \u001B[0;36mfit_offline\u001B[0;34m(self, batch_vectorizer, num_collection_passes, reset_nwt)\u001B[0m\n\u001B[1;32m    555\u001B[0m                     self._pool.apply_async(func=self.master.fit_offline,\n\u001B[1;32m    556\u001B[0m                                            args=(batch_vectorizer.batches_ids,\n\u001B[0;32m--> 557\u001B[0;31m                                                  batch_vectorizer.weights, 1, None, reset_nwt)),\n\u001B[0m\u001B[1;32m    558\u001B[0m                     batch_vectorizer.num_batches)\n\u001B[1;32m    559\u001B[0m \u001B[0;34m\u001B[0m\u001B[0m\n",
      "\u001B[0;32m~/.local/lib/python3.7/site-packages/artm/artm_model.py\u001B[0m in \u001B[0;36mapply_async\u001B[0;34m(self, func, args)\u001B[0m\n\u001B[1;32m     97\u001B[0m \u001B[0;34m\u001B[0m\u001B[0m\n\u001B[1;32m     98\u001B[0m     \u001B[0;32mdef\u001B[0m \u001B[0mapply_async\u001B[0m\u001B[0;34m(\u001B[0m\u001B[0mself\u001B[0m\u001B[0;34m,\u001B[0m \u001B[0mfunc\u001B[0m\u001B[0;34m,\u001B[0m \u001B[0margs\u001B[0m\u001B[0;34m)\u001B[0m\u001B[0;34m:\u001B[0m\u001B[0;34m\u001B[0m\u001B[0;34m\u001B[0m\u001B[0m\n\u001B[0;32m---> 99\u001B[0;31m         \u001B[0;32mreturn\u001B[0m \u001B[0mself\u001B[0m\u001B[0;34m.\u001B[0m\u001B[0m_pool\u001B[0m\u001B[0;34m.\u001B[0m\u001B[0mapply_async\u001B[0m\u001B[0;34m(\u001B[0m\u001B[0mfunc\u001B[0m\u001B[0;34m,\u001B[0m \u001B[0margs\u001B[0m\u001B[0;34m)\u001B[0m \u001B[0;32mif\u001B[0m \u001B[0mself\u001B[0m\u001B[0;34m.\u001B[0m\u001B[0m_pool\u001B[0m \u001B[0;32melse\u001B[0m \u001B[0mfunc\u001B[0m\u001B[0;34m(\u001B[0m\u001B[0;34m*\u001B[0m\u001B[0margs\u001B[0m\u001B[0;34m)\u001B[0m\u001B[0;34m\u001B[0m\u001B[0;34m\u001B[0m\u001B[0m\n\u001B[0m\u001B[1;32m    100\u001B[0m \u001B[0;34m\u001B[0m\u001B[0m\n\u001B[1;32m    101\u001B[0m     \u001B[0;32mdef\u001B[0m \u001B[0m__deepcopy__\u001B[0m\u001B[0;34m(\u001B[0m\u001B[0mself\u001B[0m\u001B[0;34m,\u001B[0m \u001B[0mmemo\u001B[0m\u001B[0;34m)\u001B[0m\u001B[0;34m:\u001B[0m\u001B[0;34m\u001B[0m\u001B[0;34m\u001B[0m\u001B[0m\n",
      "\u001B[0;32m~/.local/lib/python3.7/site-packages/artm/master_component.py\u001B[0m in \u001B[0;36mfit_offline\u001B[0;34m(self, batch_filenames, batch_weights, num_collection_passes, batches_folder, reset_nwt)\u001B[0m\n\u001B[1;32m    839\u001B[0m             \u001B[0margs\u001B[0m\u001B[0;34m.\u001B[0m\u001B[0mbatch_folder\u001B[0m \u001B[0;34m=\u001B[0m \u001B[0mbatches_folder\u001B[0m\u001B[0;34m\u001B[0m\u001B[0;34m\u001B[0m\u001B[0m\n\u001B[1;32m    840\u001B[0m \u001B[0;34m\u001B[0m\u001B[0m\n\u001B[0;32m--> 841\u001B[0;31m         \u001B[0mself\u001B[0m\u001B[0;34m.\u001B[0m\u001B[0m_lib\u001B[0m\u001B[0;34m.\u001B[0m\u001B[0mArtmFitOfflineMasterModel\u001B[0m\u001B[0;34m(\u001B[0m\u001B[0mself\u001B[0m\u001B[0;34m.\u001B[0m\u001B[0mmaster_id\u001B[0m\u001B[0;34m,\u001B[0m \u001B[0margs\u001B[0m\u001B[0;34m)\u001B[0m\u001B[0;34m\u001B[0m\u001B[0;34m\u001B[0m\u001B[0m\n\u001B[0m\u001B[1;32m    842\u001B[0m \u001B[0;34m\u001B[0m\u001B[0m\n\u001B[1;32m    843\u001B[0m     def fit_online(self, batch_filenames=None, batch_weights=None, update_after=None,\n",
      "\u001B[0;32m~/.local/lib/python3.7/site-packages/artm/wrapper/api.py\u001B[0m in \u001B[0;36martm_api_call\u001B[0;34m(*args)\u001B[0m\n\u001B[1;32m    158\u001B[0m             \u001B[0;32mif\u001B[0m \u001B[0mspec\u001B[0m\u001B[0;34m.\u001B[0m\u001B[0mresult_type\u001B[0m \u001B[0;32mis\u001B[0m \u001B[0;32mnot\u001B[0m \u001B[0;32mNone\u001B[0m\u001B[0;34m:\u001B[0m\u001B[0;34m\u001B[0m\u001B[0;34m\u001B[0m\u001B[0m\n\u001B[1;32m    159\u001B[0m                 \u001B[0mfunc\u001B[0m\u001B[0;34m.\u001B[0m\u001B[0mrestype\u001B[0m \u001B[0;34m=\u001B[0m \u001B[0mspec\u001B[0m\u001B[0;34m.\u001B[0m\u001B[0mresult_type\u001B[0m\u001B[0;34m\u001B[0m\u001B[0;34m\u001B[0m\u001B[0m\n\u001B[0;32m--> 160\u001B[0;31m             \u001B[0mresult\u001B[0m \u001B[0;34m=\u001B[0m \u001B[0mfunc\u001B[0m\u001B[0;34m(\u001B[0m\u001B[0;34m*\u001B[0m\u001B[0mc_args\u001B[0m\u001B[0;34m)\u001B[0m\u001B[0;34m\u001B[0m\u001B[0;34m\u001B[0m\u001B[0m\n\u001B[0m\u001B[1;32m    161\u001B[0m             \u001B[0mself\u001B[0m\u001B[0;34m.\u001B[0m\u001B[0m_check_error\u001B[0m\u001B[0;34m(\u001B[0m\u001B[0mresult\u001B[0m\u001B[0;34m)\u001B[0m\u001B[0;34m\u001B[0m\u001B[0;34m\u001B[0m\u001B[0m\n\u001B[1;32m    162\u001B[0m \u001B[0;34m\u001B[0m\u001B[0m\n",
      "\u001B[0;31mKeyboardInterrupt\u001B[0m: "
     ]
    }
   ],
   "source": [
    "results = []\n",
    "grid = product(N_topics, classifiers, [1e3], portions_back)\n",
    "for n_topics, cls_name, tau_back, portion_back in tqdm(grid):\n",
    "    model, parameters = get_model(bv_train, n_topics, portion_back=portion_back, tau_back=tau_back)\n",
    "    parameters['cls'] = cls_name\n",
    "    f1 = classify(model, bv_train, bv_val, name_to_cls[cls_name], train_target, val_target)\n",
    "    top_tokens = model.score_tracker['top-tokens'].last_tokens\n",
    "    result = {'parameters': parameters,\n",
    "              'perplexity': model.score_tracker[\"perplexity\"].value,\n",
    "              'sparsity': model.score_tracker[\"sparsity\"].value,\n",
    "              'top-tokens': [top_tokens[topic_name] for topic_name in model.topic_names],\n",
    "              'f1': f1}\n",
    "    results.append(result)"
   ]
  },
  {
   "cell_type": "code",
   "execution_count": 191,
   "metadata": {},
   "outputs": [],
   "source": [
    "with open(f'{results_dir}/result_back.pickle', 'wb') as handle:\n",
    "    pickle.dump(results, handle)"
   ]
  },
  {
   "cell_type": "code",
   "execution_count": null,
   "metadata": {},
   "outputs": [],
   "source": [
    "for cls_name in classifiers:\n",
    "    for n_topics in N_topics:\n",
    "        scores = [res['f1'] for res in results if res['parameters']['cls'] == cls_name\\\n",
    "                  and res['parameters']['n_topics'] == n_topics]\n",
    "        plt.plot(portions_back, scores, label=f\"{cls_name}, {n_topics} topics\")\n",
    "        plt.xlabel(\"Background themes portion\")\n",
    "        plt.ylabel(\"F1\")\n",
    "plt.legend()"
   ]
  },
  {
   "cell_type": "markdown",
   "metadata": {},
   "source": [
    "## Decorrelation"
   ]
  },
  {
   "cell_type": "code",
   "execution_count": null,
   "metadata": {},
   "outputs": [],
   "source": [
    "n_topics_best = 10\n",
    "cls_name_best = 'LogReg'\n",
    "tau_back_best = 1e3\n",
    "\n",
    "results = []\n",
    "grid = product(portions_back, taus_decor)\n",
    "for portion_back, tau_decor in tqdm(grid):\n",
    "    model, parameters = get_model(bv_train, n_topics_best, portion_back=portion_back,\n",
    "                                  tau_back=tau_back_best, tau_decor=tau_decor)\n",
    "    parameters['cls'] = cls_name_best\n",
    "    f1 = classify(model, bv_train, bv_val, name_to_cls[cls_name_best], train_target, val_target)\n",
    "    top_tokens = model.score_tracker['top-tokens'].last_tokens\n",
    "    result = {'parameters': parameters,\n",
    "              'perplexity': model.score_tracker[\"perplexity\"].value,\n",
    "              'sparsity': model.score_tracker[\"sparsity\"].value,\n",
    "              'top-tokens': [top_tokens[topic_name] for topic_name in model.topic_names],\n",
    "              'f1': f1}\n",
    "    results.append(result)"
   ]
  },
  {
   "cell_type": "code",
   "execution_count": null,
   "metadata": {},
   "outputs": [],
   "source": [
    "with open(f'{results_dir}/result_decor.pickle', 'wb') as handle:\n",
    "    pickle.dump(results, handle)"
   ]
  },
  {
   "cell_type": "markdown",
   "metadata": {},
   "source": [
    "## Sparsification"
   ]
  },
  {
   "cell_type": "code",
   "execution_count": null,
   "metadata": {},
   "outputs": [],
   "source": [
    "tau_decor_best = 1e5\n",
    "\n",
    "results = []\n",
    "grid = product(portions_back, taus_sparse)\n",
    "for portion_back, tau_sparse in tqdm(grid):\n",
    "    model, parameters = get_model(bv_train, n_topics_best, portion_back=portion_back,\n",
    "                                  tau_back=tau_back_best, tau_decor=tau_decor_best, tau_sparse=tau_sparse)\n",
    "    parameters['cls'] = cls_name_best\n",
    "    f1 = classify(model, bv_train, bv_val, name_to_cls[cls_name_best], train_target, val_target)\n",
    "    top_tokens = model.score_tracker['top-tokens'].last_tokens\n",
    "    result = {'parameters': parameters,\n",
    "              'perplexity': model.score_tracker[\"perplexity\"].value,\n",
    "              'sparsity': model.score_tracker[\"sparsity\"].value,\n",
    "              'top-tokens': [top_tokens[topic_name] for topic_name in model.topic_names],\n",
    "              'f1': f1}\n",
    "    results.append(result)"
   ]
  },
  {
   "cell_type": "code",
   "execution_count": null,
   "metadata": {},
   "outputs": [],
   "source": [
    "with open(f'{results_dir}/result_decor.pickle', 'wb') as handle:\n",
    "    pickle.dump(results, handle)"
   ]
  },
  {
   "cell_type": "markdown",
   "metadata": {},
   "source": []
  },
  {
   "cell_type": "code",
   "execution_count": 181,
   "metadata": {},
   "outputs": [
    {
     "name": "stdout",
     "output_type": "stream",
     "text": [
      "10 0.19921025641025641\n",
      "10 0.19923076923076924\n",
      "10 0.19924102564102564\n",
      "10 0.19923589743589742\n",
      "100.0 0.1992205128205128\n",
      "100.0 0.19924615384615385\n",
      "100.0 0.1992205128205128\n"
     ]
    }
   ],
   "source": [
    "results\n",
    "for res in results:\n",
    "    print(res['parameters']['tau_back'], res['f1'])"
   ]
  },
  {
   "cell_type": "code",
   "execution_count": 188,
   "metadata": {},
   "outputs": [
    {
     "name": "stderr",
     "output_type": "stream",
     "text": [
      "1it [03:59, 239.03s/it]\n"
     ]
    }
   ],
   "source": [
    "results = []\n",
    "grid = product([10], ['LogReg'], [100000], [0.2])\n",
    "for n_topics, cls_name, tau_back, portion_back in tqdm(grid):\n",
    "    model, parameters = get_model(bv_train, n_topics, portion_back=portion_back, tau_back=tau_back)\n",
    "    parameters['cls'] = cls_name\n",
    "    f1 = classify(model, bv_train, bv_val, name_to_cls[cls_name], train_target, val_target)\n",
    "    top_tokens = model.score_tracker['top-tokens'].last_tokens\n",
    "    result = {'parameters': parameters,\n",
    "              'perplexity': model.score_tracker[\"perplexity\"].value,\n",
    "              'sparsity': model.score_tracker[\"sparsity\"].value,\n",
    "              'top-tokens': [top_tokens[topic_name] for topic_name in model.topic_names],\n",
    "              'f1': f1}\n",
    "    results.append(result)"
   ]
  },
  {
   "cell_type": "code",
   "execution_count": 185,
   "metadata": {},
   "outputs": [
    {
     "data": {
      "text/plain": [
       "0.19934871794871795"
      ]
     },
     "execution_count": 185,
     "metadata": {},
     "output_type": "execute_result"
    }
   ],
   "source": [
    "results[0]['f1']"
   ]
  },
  {
   "cell_type": "code",
   "execution_count": 187,
   "metadata": {},
   "outputs": [
    {
     "data": {
      "text/plain": [
       "0.1994974358974359"
      ]
     },
     "execution_count": 187,
     "metadata": {},
     "output_type": "execute_result"
    }
   ],
   "source": [
    "results[0]['f1']"
   ]
  },
  {
   "cell_type": "code",
   "execution_count": 189,
   "metadata": {},
   "outputs": [
    {
     "data": {
      "text/plain": [
       "0.1994974358974359"
      ]
     },
     "execution_count": 189,
     "metadata": {},
     "output_type": "execute_result"
    }
   ],
   "source": [
    "results[0]['f1']"
   ]
  },
  {
   "cell_type": "code",
   "execution_count": 97,
   "metadata": {},
   "outputs": [
    {
     "name": "stderr",
     "output_type": "stream",
     "text": [
      "2it [05:44, 172.43s/it]\n"
     ]
    }
   ],
   "source": [
    "grid = product(N_topics, taus_portions_back, taus_sparse_decor)\n",
    "results_dir = 'results'\n",
    "\n",
    "it = 0\n",
    "for n_topics, tau_portion_back, tau_sparse_decor in tqdm(grid):\n",
    "    if it > 0:\n",
    "        break\n",
    "    \n",
    "    tau_back, portion_back = tau_portion_back\n",
    "    tau_sparse, tau_decor = tau_sparse_decor\n",
    "    if tau_decor == 1e5:\n",
    "        model = get_model(bv, n_topics, portion_back, tau_back, tau_sparse, tau_decor)\n",
    "\n",
    "        parameters = {'n_topics': n_topics, 'portion_back': portion_back, 'tau_back': tau_back,\n",
    "                      'tau_sparse': tau_sparse, 'tau_decor': tau_decor}\n",
    "        result = {'parameters': parameters, 'perplexity': [], 'sparsity': []}\n",
    "        for i in range(20):\n",
    "            model.fit_offline(bv, num_collection_passes=1)\n",
    "            perplexity = model.score_tracker[\"perplexity\"].last_value\n",
    "            sparsity = model.score_tracker[\"sparsity\"].last_value\n",
    "            result['perplexity'].append(perplexity)\n",
    "            result['sparsity'].append(sparsity)\n",
    "\n",
    "        top_tokens = model.score_tracker['top-tokens'].last_tokens\n",
    "        result['top-tokens'] = [top_tokens[topic_name] for topic_name in model.topic_names]\n",
    "        result['theta'] = model.get_theta()\n",
    "\n",
    "        with open(f'{results_dir}/result_{it}.pickle', 'wb') as handle:\n",
    "            pickle.dump(result, handle)\n",
    "\n",
    "        it += 1"
   ]
  },
  {
   "cell_type": "code",
   "execution_count": 98,
   "metadata": {},
   "outputs": [],
   "source": [
    "with open('results/result_19.pickle', 'rb') as handle:\n",
    "    result = pickle.load(handle)"
   ]
  },
  {
   "cell_type": "code",
   "execution_count": 99,
   "metadata": {
    "scrolled": true
   },
   "outputs": [
    {
     "name": "stdout",
     "output_type": "stream",
     "text": [
      "DESCRIPTION: {'n_topics': 10, 'portion_back': 0.1, 'tau_back': 10, 'tau_sparse': 10, 'tau_decor': 100000.0} \n",
      "\n",
      "PERPLEXITY: [313523.28125, 2586.058837890625, 2566.08154296875, 2519.09130859375, 2464.9404296875, 2401.533447265625, 2320.0224609375, 2236.3779296875, 2164.45263671875, 2106.490966796875, 2060.423095703125, 2023.589599609375, 1993.7294921875, 1969.31689453125, 1949.295166015625, 1932.7796630859375, 1919.019287109375, 1907.3822021484375, 1897.428466796875, 1888.8182373046875] \n",
      "\n",
      "SPARSITY: [1.5655576817152905e-06, 0.0, 0.0, 0.0, 0.0, 0.0, 0.0, 0.0, 0.0, 0.0, 0.0, 0.0, 0.0, 0.0, 0.0, 0.0, 0.0, 0.0, 0.0, 0.0] \n",
      "\n",
      "TOP TOKENS: [['room', 'stay', 'hotel', 'vegas', 'strip', 'night', 'free', 'like', 'clean', 'nice'], ['hour', 'happy', 'service', 'look', 'close', 'new', 'amazing', 'year', 'time', 'hair'], ['tell', 'call', 'take', 'time', 'say', 'show', 'customer', 'ask', 'work', 'car'], ['place', 'drink', 'bar', 'pretty', 'friend', 'beer', 'people', 'see', 'nice', 'night'], ['chicken', 'burger', 'sauce', 'order', 'eat', 'like', 'dish', 'fries', 'roll', 'sushi'], ['pizza', 'order', 'cheese', 'star', 'small', 'two', 'give', 'want', 'think', 'eat'], ['food', 'service', 'restaurant', 'menu', 'time', 'table', 'meal', 'nothing', 'taco', 'seat'], ['come', 'place', 'order', 'say', 'wait', 'like', 'take', 'minute', 'make', 'time'], ['little', 'buffet', 'breakfast', 'coffee', 'dessert', 'like', 'cream', 'ice', 'worth', 'try'], ['find', 'store', 'location', 'like', 'price', 'love', 'look', 'shop', 'need', 'well']]\n"
     ]
    }
   ],
   "source": [
    "print(\"DESCRIPTION:\", result['parameters'], '\\n')\n",
    "print(\"PERPLEXITY:\", result['perplexity'], '\\n')\n",
    "print(\"SPARSITY:\", result['sparsity'], '\\n')\n",
    "print(\"TOP TOKENS:\", result['top-tokens'])"
   ]
  },
  {
   "cell_type": "code",
   "execution_count": 100,
   "metadata": {},
   "outputs": [
    {
     "data": {
      "text/html": [
       "<div>\n",
       "<style scoped>\n",
       "    .dataframe tbody tr th:only-of-type {\n",
       "        vertical-align: middle;\n",
       "    }\n",
       "\n",
       "    .dataframe tbody tr th {\n",
       "        vertical-align: top;\n",
       "    }\n",
       "\n",
       "    .dataframe thead th {\n",
       "        text-align: right;\n",
       "    }\n",
       "</style>\n",
       "<table border=\"1\" class=\"dataframe\">\n",
       "  <thead>\n",
       "    <tr style=\"text-align: right;\">\n",
       "      <th></th>\n",
       "      <th>170000</th>\n",
       "      <th>170001</th>\n",
       "      <th>170002</th>\n",
       "      <th>170003</th>\n",
       "      <th>170004</th>\n",
       "      <th>170005</th>\n",
       "      <th>170006</th>\n",
       "      <th>170007</th>\n",
       "      <th>170008</th>\n",
       "      <th>170009</th>\n",
       "      <th>...</th>\n",
       "      <th>309990</th>\n",
       "      <th>309991</th>\n",
       "      <th>309992</th>\n",
       "      <th>309993</th>\n",
       "      <th>309994</th>\n",
       "      <th>309995</th>\n",
       "      <th>309996</th>\n",
       "      <th>309997</th>\n",
       "      <th>309998</th>\n",
       "      <th>309999</th>\n",
       "    </tr>\n",
       "  </thead>\n",
       "  <tbody>\n",
       "    <tr>\n",
       "      <th>topic_0</th>\n",
       "      <td>0.283193</td>\n",
       "      <td>0.452112</td>\n",
       "      <td>0.535925</td>\n",
       "      <td>0.527817</td>\n",
       "      <td>0.323818</td>\n",
       "      <td>0.531445</td>\n",
       "      <td>0.286066</td>\n",
       "      <td>0.568600</td>\n",
       "      <td>0.643041</td>\n",
       "      <td>0.496274</td>\n",
       "      <td>...</td>\n",
       "      <td>0.016361</td>\n",
       "      <td>0.074090</td>\n",
       "      <td>0.039254</td>\n",
       "      <td>0.049669</td>\n",
       "      <td>0.075123</td>\n",
       "      <td>0.050898</td>\n",
       "      <td>0.081712</td>\n",
       "      <td>0.055124</td>\n",
       "      <td>0.003368</td>\n",
       "      <td>0.021841</td>\n",
       "    </tr>\n",
       "    <tr>\n",
       "      <th>topic_1</th>\n",
       "      <td>0.036622</td>\n",
       "      <td>0.024368</td>\n",
       "      <td>0.040415</td>\n",
       "      <td>0.024586</td>\n",
       "      <td>0.124620</td>\n",
       "      <td>0.010490</td>\n",
       "      <td>0.042648</td>\n",
       "      <td>0.015200</td>\n",
       "      <td>0.109974</td>\n",
       "      <td>0.017760</td>\n",
       "      <td>...</td>\n",
       "      <td>0.016777</td>\n",
       "      <td>0.054202</td>\n",
       "      <td>0.069354</td>\n",
       "      <td>0.161219</td>\n",
       "      <td>0.023809</td>\n",
       "      <td>0.089995</td>\n",
       "      <td>0.122173</td>\n",
       "      <td>0.056652</td>\n",
       "      <td>0.059645</td>\n",
       "      <td>0.493905</td>\n",
       "    </tr>\n",
       "    <tr>\n",
       "      <th>topic_2</th>\n",
       "      <td>0.451766</td>\n",
       "      <td>0.161228</td>\n",
       "      <td>0.097932</td>\n",
       "      <td>0.259569</td>\n",
       "      <td>0.176654</td>\n",
       "      <td>0.257451</td>\n",
       "      <td>0.221406</td>\n",
       "      <td>0.067270</td>\n",
       "      <td>0.079154</td>\n",
       "      <td>0.156938</td>\n",
       "      <td>...</td>\n",
       "      <td>0.107481</td>\n",
       "      <td>0.088496</td>\n",
       "      <td>0.011835</td>\n",
       "      <td>0.120469</td>\n",
       "      <td>0.073937</td>\n",
       "      <td>0.030360</td>\n",
       "      <td>0.023972</td>\n",
       "      <td>0.007985</td>\n",
       "      <td>0.030518</td>\n",
       "      <td>0.000981</td>\n",
       "    </tr>\n",
       "    <tr>\n",
       "      <th>topic_3</th>\n",
       "      <td>0.020884</td>\n",
       "      <td>0.129450</td>\n",
       "      <td>0.030177</td>\n",
       "      <td>0.024625</td>\n",
       "      <td>0.035784</td>\n",
       "      <td>0.026901</td>\n",
       "      <td>0.110320</td>\n",
       "      <td>0.107800</td>\n",
       "      <td>0.023190</td>\n",
       "      <td>0.050897</td>\n",
       "      <td>...</td>\n",
       "      <td>0.008145</td>\n",
       "      <td>0.207455</td>\n",
       "      <td>0.485271</td>\n",
       "      <td>0.234376</td>\n",
       "      <td>0.174788</td>\n",
       "      <td>0.071596</td>\n",
       "      <td>0.172209</td>\n",
       "      <td>0.123435</td>\n",
       "      <td>0.046908</td>\n",
       "      <td>0.029192</td>\n",
       "    </tr>\n",
       "    <tr>\n",
       "      <th>topic_4</th>\n",
       "      <td>0.002980</td>\n",
       "      <td>0.020607</td>\n",
       "      <td>0.002391</td>\n",
       "      <td>0.001061</td>\n",
       "      <td>0.007266</td>\n",
       "      <td>0.008965</td>\n",
       "      <td>0.018596</td>\n",
       "      <td>0.006807</td>\n",
       "      <td>0.002893</td>\n",
       "      <td>0.008758</td>\n",
       "      <td>...</td>\n",
       "      <td>0.029963</td>\n",
       "      <td>0.030909</td>\n",
       "      <td>0.025642</td>\n",
       "      <td>0.003373</td>\n",
       "      <td>0.038294</td>\n",
       "      <td>0.108599</td>\n",
       "      <td>0.023267</td>\n",
       "      <td>0.311536</td>\n",
       "      <td>0.094413</td>\n",
       "      <td>0.001472</td>\n",
       "    </tr>\n",
       "    <tr>\n",
       "      <th>topic_5</th>\n",
       "      <td>0.032310</td>\n",
       "      <td>0.035904</td>\n",
       "      <td>0.080640</td>\n",
       "      <td>0.031049</td>\n",
       "      <td>0.075946</td>\n",
       "      <td>0.041965</td>\n",
       "      <td>0.086160</td>\n",
       "      <td>0.048664</td>\n",
       "      <td>0.019274</td>\n",
       "      <td>0.066993</td>\n",
       "      <td>...</td>\n",
       "      <td>0.059488</td>\n",
       "      <td>0.144536</td>\n",
       "      <td>0.064304</td>\n",
       "      <td>0.096982</td>\n",
       "      <td>0.141458</td>\n",
       "      <td>0.278575</td>\n",
       "      <td>0.122423</td>\n",
       "      <td>0.224799</td>\n",
       "      <td>0.205001</td>\n",
       "      <td>0.002025</td>\n",
       "    </tr>\n",
       "    <tr>\n",
       "      <th>topic_6</th>\n",
       "      <td>0.026154</td>\n",
       "      <td>0.051616</td>\n",
       "      <td>0.024404</td>\n",
       "      <td>0.018118</td>\n",
       "      <td>0.020623</td>\n",
       "      <td>0.011219</td>\n",
       "      <td>0.036221</td>\n",
       "      <td>0.015619</td>\n",
       "      <td>0.014555</td>\n",
       "      <td>0.068468</td>\n",
       "      <td>...</td>\n",
       "      <td>0.261162</td>\n",
       "      <td>0.122658</td>\n",
       "      <td>0.058844</td>\n",
       "      <td>0.076232</td>\n",
       "      <td>0.177268</td>\n",
       "      <td>0.128072</td>\n",
       "      <td>0.194790</td>\n",
       "      <td>0.046678</td>\n",
       "      <td>0.104923</td>\n",
       "      <td>0.391717</td>\n",
       "    </tr>\n",
       "    <tr>\n",
       "      <th>topic_7</th>\n",
       "      <td>0.117682</td>\n",
       "      <td>0.010071</td>\n",
       "      <td>0.101362</td>\n",
       "      <td>0.039891</td>\n",
       "      <td>0.152872</td>\n",
       "      <td>0.056085</td>\n",
       "      <td>0.144950</td>\n",
       "      <td>0.060892</td>\n",
       "      <td>0.102403</td>\n",
       "      <td>0.054753</td>\n",
       "      <td>...</td>\n",
       "      <td>0.491154</td>\n",
       "      <td>0.083728</td>\n",
       "      <td>0.034596</td>\n",
       "      <td>0.151471</td>\n",
       "      <td>0.146786</td>\n",
       "      <td>0.059765</td>\n",
       "      <td>0.116745</td>\n",
       "      <td>0.015168</td>\n",
       "      <td>0.137073</td>\n",
       "      <td>0.008049</td>\n",
       "    </tr>\n",
       "    <tr>\n",
       "      <th>topic_8</th>\n",
       "      <td>0.006392</td>\n",
       "      <td>0.058913</td>\n",
       "      <td>0.010563</td>\n",
       "      <td>0.006659</td>\n",
       "      <td>0.036755</td>\n",
       "      <td>0.004844</td>\n",
       "      <td>0.032254</td>\n",
       "      <td>0.027665</td>\n",
       "      <td>0.002442</td>\n",
       "      <td>0.028911</td>\n",
       "      <td>...</td>\n",
       "      <td>0.004025</td>\n",
       "      <td>0.064684</td>\n",
       "      <td>0.044830</td>\n",
       "      <td>0.010017</td>\n",
       "      <td>0.045030</td>\n",
       "      <td>0.085397</td>\n",
       "      <td>0.121991</td>\n",
       "      <td>0.102583</td>\n",
       "      <td>0.173336</td>\n",
       "      <td>0.016278</td>\n",
       "    </tr>\n",
       "    <tr>\n",
       "      <th>topic_9</th>\n",
       "      <td>0.022017</td>\n",
       "      <td>0.055731</td>\n",
       "      <td>0.076190</td>\n",
       "      <td>0.066625</td>\n",
       "      <td>0.045662</td>\n",
       "      <td>0.050635</td>\n",
       "      <td>0.021378</td>\n",
       "      <td>0.081481</td>\n",
       "      <td>0.003074</td>\n",
       "      <td>0.050248</td>\n",
       "      <td>...</td>\n",
       "      <td>0.005445</td>\n",
       "      <td>0.129244</td>\n",
       "      <td>0.166069</td>\n",
       "      <td>0.096192</td>\n",
       "      <td>0.103506</td>\n",
       "      <td>0.096742</td>\n",
       "      <td>0.020718</td>\n",
       "      <td>0.056039</td>\n",
       "      <td>0.144814</td>\n",
       "      <td>0.034540</td>\n",
       "    </tr>\n",
       "  </tbody>\n",
       "</table>\n",
       "<p>10 rows × 650000 columns</p>\n",
       "</div>"
      ],
      "text/plain": [
       "           170000    170001    170002    170003    170004    170005    170006  \\\n",
       "topic_0  0.283193  0.452112  0.535925  0.527817  0.323818  0.531445  0.286066   \n",
       "topic_1  0.036622  0.024368  0.040415  0.024586  0.124620  0.010490  0.042648   \n",
       "topic_2  0.451766  0.161228  0.097932  0.259569  0.176654  0.257451  0.221406   \n",
       "topic_3  0.020884  0.129450  0.030177  0.024625  0.035784  0.026901  0.110320   \n",
       "topic_4  0.002980  0.020607  0.002391  0.001061  0.007266  0.008965  0.018596   \n",
       "topic_5  0.032310  0.035904  0.080640  0.031049  0.075946  0.041965  0.086160   \n",
       "topic_6  0.026154  0.051616  0.024404  0.018118  0.020623  0.011219  0.036221   \n",
       "topic_7  0.117682  0.010071  0.101362  0.039891  0.152872  0.056085  0.144950   \n",
       "topic_8  0.006392  0.058913  0.010563  0.006659  0.036755  0.004844  0.032254   \n",
       "topic_9  0.022017  0.055731  0.076190  0.066625  0.045662  0.050635  0.021378   \n",
       "\n",
       "           170007    170008    170009  ...    309990    309991    309992  \\\n",
       "topic_0  0.568600  0.643041  0.496274  ...  0.016361  0.074090  0.039254   \n",
       "topic_1  0.015200  0.109974  0.017760  ...  0.016777  0.054202  0.069354   \n",
       "topic_2  0.067270  0.079154  0.156938  ...  0.107481  0.088496  0.011835   \n",
       "topic_3  0.107800  0.023190  0.050897  ...  0.008145  0.207455  0.485271   \n",
       "topic_4  0.006807  0.002893  0.008758  ...  0.029963  0.030909  0.025642   \n",
       "topic_5  0.048664  0.019274  0.066993  ...  0.059488  0.144536  0.064304   \n",
       "topic_6  0.015619  0.014555  0.068468  ...  0.261162  0.122658  0.058844   \n",
       "topic_7  0.060892  0.102403  0.054753  ...  0.491154  0.083728  0.034596   \n",
       "topic_8  0.027665  0.002442  0.028911  ...  0.004025  0.064684  0.044830   \n",
       "topic_9  0.081481  0.003074  0.050248  ...  0.005445  0.129244  0.166069   \n",
       "\n",
       "           309993    309994    309995    309996    309997    309998    309999  \n",
       "topic_0  0.049669  0.075123  0.050898  0.081712  0.055124  0.003368  0.021841  \n",
       "topic_1  0.161219  0.023809  0.089995  0.122173  0.056652  0.059645  0.493905  \n",
       "topic_2  0.120469  0.073937  0.030360  0.023972  0.007985  0.030518  0.000981  \n",
       "topic_3  0.234376  0.174788  0.071596  0.172209  0.123435  0.046908  0.029192  \n",
       "topic_4  0.003373  0.038294  0.108599  0.023267  0.311536  0.094413  0.001472  \n",
       "topic_5  0.096982  0.141458  0.278575  0.122423  0.224799  0.205001  0.002025  \n",
       "topic_6  0.076232  0.177268  0.128072  0.194790  0.046678  0.104923  0.391717  \n",
       "topic_7  0.151471  0.146786  0.059765  0.116745  0.015168  0.137073  0.008049  \n",
       "topic_8  0.010017  0.045030  0.085397  0.121991  0.102583  0.173336  0.016278  \n",
       "topic_9  0.096192  0.103506  0.096742  0.020718  0.056039  0.144814  0.034540  \n",
       "\n",
       "[10 rows x 650000 columns]"
      ]
     },
     "execution_count": 100,
     "metadata": {},
     "output_type": "execute_result"
    }
   ],
   "source": [
    "result['theta']"
   ]
  },
  {
   "cell_type": "code",
   "execution_count": null,
   "metadata": {},
   "outputs": [],
   "source": []
  }
 ],
 "metadata": {
  "kernelspec": {
   "display_name": "Python 3",
   "language": "python",
   "name": "python3"
  },
  "language_info": {
   "codemirror_mode": {
    "name": "ipython",
    "version": 3
   },
   "file_extension": ".py",
   "mimetype": "text/x-python",
   "name": "python",
   "nbconvert_exporter": "python",
   "pygments_lexer": "ipython3",
   "version": "3.7.9"
  }
 },
 "nbformat": 4,
 "nbformat_minor": 4
}