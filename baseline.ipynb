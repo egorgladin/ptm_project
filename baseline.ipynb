{
  "nbformat": 4,
  "nbformat_minor": 0,
  "metadata": {
    "colab": {
      "name": "Untitled0.ipynb",
      "provenance": []
    },
    "kernelspec": {
      "name": "python3",
      "display_name": "Python 3"
    }
  },
  "cells": [
    {
      "cell_type": "code",
      "metadata": {
        "id": "CTqMASisp-Bm"
      },
      "source": [
        "from sklearn.decomposition import TruncatedSVD\n",
        "from sklearn.feature_extraction.text import TfidfVectorizer\n",
        "from sklearn.linear_model import LogisticRegression\n",
        "from sklearn.svm import SVC\n",
        "from sklearn.metrics import f1_score\n",
        "from sklearn.base import clone"
      ],
      "execution_count": null,
      "outputs": []
    },
    {
      "cell_type": "code",
      "metadata": {
        "id": "cwmxbnm3urGV"
      },
      "source": [
        "import pickle\n",
        "import numpy as np"
      ],
      "execution_count": null,
      "outputs": []
    },
    {
      "cell_type": "code",
      "metadata": {
        "id": "srKL33EMsCER"
      },
      "source": [
        "path=\"drive/MyDrive/preprocessed_dataset/\""
      ],
      "execution_count": null,
      "outputs": []
    },
    {
      "cell_type": "code",
      "metadata": {
        "id": "wFpM7OppsCQI"
      },
      "source": [
        "with open(path + \"train_new\", \"r\") as f:\n",
        "  train_texts = f.read().splitlines() \n",
        "\n",
        "with open(path + \"val_new\", \"r\") as f:\n",
        "  val_texts = f.read().splitlines() \n",
        "\n",
        "with open(path + \"test_new\", \"r\") as f:\n",
        "  test_texts = f.read().splitlines() "
      ],
      "execution_count": null,
      "outputs": []
    },
    {
      "cell_type": "code",
      "metadata": {
        "id": "dM5ezGG6undU"
      },
      "source": [
        "with open(path + 'train_target.pickle', 'rb') as f:\n",
        "  train_target = pickle.load(f)\n",
        "\n",
        "with open(path + 'val_target.pickle', 'rb') as f:\n",
        "  val_target = pickle.load(f)\n",
        "\n",
        "with open(path + 'test_target.pickle', 'rb') as f:\n",
        "  test_target = pickle.load(f)"
      ],
      "execution_count": null,
      "outputs": []
    },
    {
      "cell_type": "code",
      "metadata": {
        "id": "jXNmeeEMwMOn"
      },
      "source": [
        "tfidf_vectorizer = TfidfVectorizer()"
      ],
      "execution_count": null,
      "outputs": []
    },
    {
      "cell_type": "code",
      "metadata": {
        "colab": {
          "base_uri": "https://localhost:8080/"
        },
        "id": "KdOyFuLtqaVo",
        "outputId": "9479c8a0-04ea-49c3-c3fc-d540d65a57c1"
      },
      "source": [
        "%%time\n",
        "\n",
        "X_tfidf_train = tfidf_vectorizer.fit_transform(train_texts)\n",
        "X_tfidf_val = tfidf_vectorizer.transform(val_texts)\n",
        "X_tfidf_test = tfidf_vectorizer.transform(test_texts)"
      ],
      "execution_count": null,
      "outputs": [
        {
          "output_type": "stream",
          "text": [
            "CPU times: user 35.3 s, sys: 461 ms, total: 35.7 s\n",
            "Wall time: 35.8 s\n"
          ],
          "name": "stdout"
        }
      ]
    },
    {
      "cell_type": "code",
      "metadata": {
        "id": "rKxeTGjEy5IU"
      },
      "source": [
        "svd = TruncatedSVD(n_components=350)"
      ],
      "execution_count": null,
      "outputs": []
    },
    {
      "cell_type": "code",
      "metadata": {
        "colab": {
          "base_uri": "https://localhost:8080/"
        },
        "id": "VsYl2bht5xgR",
        "outputId": "12c2d857-860a-4a51-eba6-070b92480e9e"
      },
      "source": [
        "%%time\n",
        "\n",
        "a = svd.fit_transform(X_tfidf_train)"
      ],
      "execution_count": null,
      "outputs": [
        {
          "output_type": "stream",
          "text": [
            "CPU times: user 1min 16s, sys: 3.52 s, total: 1min 19s\n",
            "Wall time: 1min 6s\n"
          ],
          "name": "stdout"
        }
      ]
    },
    {
      "cell_type": "code",
      "metadata": {
        "id": "a3ojZcf64dl9"
      },
      "source": [
        "from functools import partial\n",
        "\n",
        "score_func = partial(f1_score, average='micro', zero_division=1.0)"
      ],
      "execution_count": null,
      "outputs": []
    },
    {
      "cell_type": "code",
      "metadata": {
        "id": "Dsx885XP_olx"
      },
      "source": [
        ""
      ],
      "execution_count": null,
      "outputs": []
    },
    {
      "cell_type": "code",
      "metadata": {
        "id": "HV9hPkZcy9nq"
      },
      "source": [
        "def measure_benchmark_reducers_performance(train_data, train_target, val_data, val_target, test_data, test_target,\n",
        "                                           space_reducer, classifiers, score_func, verbose=False):\n",
        "    score_matrix = np.zeros(len(classifiers))\n",
        "    test_score_matrix = np.zeros(len(classifiers))\n",
        "    \n",
        "    train_X = space_reducer.fit_transform(X=train_data)\n",
        "    test_X = space_reducer.transform(X=test_data)\n",
        "    val_X = space_reducer.transform(X=val_data)\n",
        "    \n",
        "    if verbose:\n",
        "        print('            ', end='')\n",
        "    \n",
        "    for j, clf in enumerate(classifiers):\n",
        "        if verbose:\n",
        "            print('test model {}'.format(j + 1), end='|')\n",
        "        benchmark_model = clone(clf)\n",
        "        \n",
        "        benchmark_model.fit(X=train_X, y=train_target)\n",
        "        score_matrix[j] = score_func(y_true=val_target, y_pred=benchmark_model.predict(X=val_X))\n",
        "        test_score_matrix[j] = score_func(y_true=test_target, y_pred=benchmark_model.predict(X=test_X))\n",
        "    \n",
        "    if verbose:\n",
        "        print('completed!')\n",
        "    \n",
        "    return {'score matrix': score_matrix,\n",
        "            'test score matrix': test_score_matrix}"
      ],
      "execution_count": null,
      "outputs": []
    },
    {
      "cell_type": "code",
      "metadata": {
        "id": "kIWl7YCi0mTr"
      },
      "source": [
        "classifiers_list = [SVC(C=1.0, max_iter=5), LogisticRegression()]"
      ],
      "execution_count": null,
      "outputs": []
    },
    {
      "cell_type": "code",
      "metadata": {
        "id": "6TXOIzNsNsN2"
      },
      "source": [
        "log_params = {'C': [0.1, 1, 5, 10]}"
      ],
      "execution_count": null,
      "outputs": []
    },
    {
      "cell_type": "code",
      "metadata": {
        "id": "Iwg0vMhCOX9F"
      },
      "source": [
        "log_list = [LogisticRegression(C=c) for c in log_params ['C']]"
      ],
      "execution_count": null,
      "outputs": []
    },
    {
      "cell_type": "code",
      "metadata": {
        "colab": {
          "base_uri": "https://localhost:8080/"
        },
        "id": "gyqlB1E7O4bP",
        "outputId": "130b291f-9ea4-4587-a597-3d6a294303eb"
      },
      "source": [
        "log_list"
      ],
      "execution_count": null,
      "outputs": [
        {
          "output_type": "execute_result",
          "data": {
            "text/plain": [
              "[LogisticRegression(C=0.1, class_weight=None, dual=False, fit_intercept=True,\n",
              "                    intercept_scaling=1, l1_ratio=None, max_iter=100,\n",
              "                    multi_class='auto', n_jobs=None, penalty='l2',\n",
              "                    random_state=None, solver='lbfgs', tol=0.0001, verbose=0,\n",
              "                    warm_start=False),\n",
              " LogisticRegression(C=1, class_weight=None, dual=False, fit_intercept=True,\n",
              "                    intercept_scaling=1, l1_ratio=None, max_iter=100,\n",
              "                    multi_class='auto', n_jobs=None, penalty='l2',\n",
              "                    random_state=None, solver='lbfgs', tol=0.0001, verbose=0,\n",
              "                    warm_start=False),\n",
              " LogisticRegression(C=5, class_weight=None, dual=False, fit_intercept=True,\n",
              "                    intercept_scaling=1, l1_ratio=None, max_iter=100,\n",
              "                    multi_class='auto', n_jobs=None, penalty='l2',\n",
              "                    random_state=None, solver='lbfgs', tol=0.0001, verbose=0,\n",
              "                    warm_start=False),\n",
              " LogisticRegression(C=10, class_weight=None, dual=False, fit_intercept=True,\n",
              "                    intercept_scaling=1, l1_ratio=None, max_iter=100,\n",
              "                    multi_class='auto', n_jobs=None, penalty='l2',\n",
              "                    random_state=None, solver='lbfgs', tol=0.0001, verbose=0,\n",
              "                    warm_start=False)]"
            ]
          },
          "metadata": {
            "tags": []
          },
          "execution_count": 51
        }
      ]
    },
    {
      "cell_type": "code",
      "metadata": {
        "id": "eQdu-e-KCIhB"
      },
      "source": [
        "svm_params = {'C': [0.1, 1, 5, 10],\n",
        "              'max_iter': [5, 10, 15]}"
      ],
      "execution_count": null,
      "outputs": []
    },
    {
      "cell_type": "code",
      "metadata": {
        "id": "rJYNl5uiKn-y"
      },
      "source": [
        "svm_list = [SVC(C=c, max_iter=i) for c in svm_params['C'] for i in svm_params['max_iter']]"
      ],
      "execution_count": null,
      "outputs": []
    },
    {
      "cell_type": "code",
      "metadata": {
        "colab": {
          "base_uri": "https://localhost:8080/"
        },
        "id": "_b935CnpLklH",
        "outputId": "6a0734d5-a547-47bc-df1c-ffc74c32e24a"
      },
      "source": [
        "svm_list"
      ],
      "execution_count": null,
      "outputs": [
        {
          "output_type": "execute_result",
          "data": {
            "text/plain": [
              "[SVC(C=0.1, break_ties=False, cache_size=200, class_weight=None, coef0=0.0,\n",
              "     decision_function_shape='ovr', degree=3, gamma='scale', kernel='rbf',\n",
              "     max_iter=5, probability=False, random_state=None, shrinking=True, tol=0.001,\n",
              "     verbose=False),\n",
              " SVC(C=0.1, break_ties=False, cache_size=200, class_weight=None, coef0=0.0,\n",
              "     decision_function_shape='ovr', degree=3, gamma='scale', kernel='rbf',\n",
              "     max_iter=10, probability=False, random_state=None, shrinking=True,\n",
              "     tol=0.001, verbose=False),\n",
              " SVC(C=0.1, break_ties=False, cache_size=200, class_weight=None, coef0=0.0,\n",
              "     decision_function_shape='ovr', degree=3, gamma='scale', kernel='rbf',\n",
              "     max_iter=15, probability=False, random_state=None, shrinking=True,\n",
              "     tol=0.001, verbose=False),\n",
              " SVC(C=1, break_ties=False, cache_size=200, class_weight=None, coef0=0.0,\n",
              "     decision_function_shape='ovr', degree=3, gamma='scale', kernel='rbf',\n",
              "     max_iter=5, probability=False, random_state=None, shrinking=True, tol=0.001,\n",
              "     verbose=False),\n",
              " SVC(C=1, break_ties=False, cache_size=200, class_weight=None, coef0=0.0,\n",
              "     decision_function_shape='ovr', degree=3, gamma='scale', kernel='rbf',\n",
              "     max_iter=10, probability=False, random_state=None, shrinking=True,\n",
              "     tol=0.001, verbose=False),\n",
              " SVC(C=1, break_ties=False, cache_size=200, class_weight=None, coef0=0.0,\n",
              "     decision_function_shape='ovr', degree=3, gamma='scale', kernel='rbf',\n",
              "     max_iter=15, probability=False, random_state=None, shrinking=True,\n",
              "     tol=0.001, verbose=False),\n",
              " SVC(C=5, break_ties=False, cache_size=200, class_weight=None, coef0=0.0,\n",
              "     decision_function_shape='ovr', degree=3, gamma='scale', kernel='rbf',\n",
              "     max_iter=5, probability=False, random_state=None, shrinking=True, tol=0.001,\n",
              "     verbose=False),\n",
              " SVC(C=5, break_ties=False, cache_size=200, class_weight=None, coef0=0.0,\n",
              "     decision_function_shape='ovr', degree=3, gamma='scale', kernel='rbf',\n",
              "     max_iter=10, probability=False, random_state=None, shrinking=True,\n",
              "     tol=0.001, verbose=False),\n",
              " SVC(C=5, break_ties=False, cache_size=200, class_weight=None, coef0=0.0,\n",
              "     decision_function_shape='ovr', degree=3, gamma='scale', kernel='rbf',\n",
              "     max_iter=15, probability=False, random_state=None, shrinking=True,\n",
              "     tol=0.001, verbose=False),\n",
              " SVC(C=10, break_ties=False, cache_size=200, class_weight=None, coef0=0.0,\n",
              "     decision_function_shape='ovr', degree=3, gamma='scale', kernel='rbf',\n",
              "     max_iter=5, probability=False, random_state=None, shrinking=True, tol=0.001,\n",
              "     verbose=False),\n",
              " SVC(C=10, break_ties=False, cache_size=200, class_weight=None, coef0=0.0,\n",
              "     decision_function_shape='ovr', degree=3, gamma='scale', kernel='rbf',\n",
              "     max_iter=10, probability=False, random_state=None, shrinking=True,\n",
              "     tol=0.001, verbose=False),\n",
              " SVC(C=10, break_ties=False, cache_size=200, class_weight=None, coef0=0.0,\n",
              "     decision_function_shape='ovr', degree=3, gamma='scale', kernel='rbf',\n",
              "     max_iter=15, probability=False, random_state=None, shrinking=True,\n",
              "     tol=0.001, verbose=False)]"
            ]
          },
          "metadata": {
            "tags": []
          },
          "execution_count": 47
        }
      ]
    },
    {
      "cell_type": "code",
      "metadata": {
        "colab": {
          "base_uri": "https://localhost:8080/"
        },
        "id": "RTh5dhjsz7kd",
        "outputId": "48e339ff-94f4-474a-af91-938b1f299655"
      },
      "source": [
        "measure_benchmark_reducers_performance(train_data=X_tfidf_train, train_target=train_target, \n",
        "                                       val_data=X_tfidf_val, val_target=val_target, \n",
        "                                       test_data=X_tfidf_test, test_target=test_target,\n",
        "                                       space_reducer=svd, classifiers=log_list, \n",
        "                                       score_func=score_func, verbose=True)"
      ],
      "execution_count": null,
      "outputs": [
        {
          "output_type": "stream",
          "text": [
            "            test model 1|"
          ],
          "name": "stdout"
        },
        {
          "output_type": "stream",
          "text": [
            "/usr/local/lib/python3.6/dist-packages/sklearn/linear_model/_logistic.py:940: ConvergenceWarning: lbfgs failed to converge (status=1):\n",
            "STOP: TOTAL NO. of ITERATIONS REACHED LIMIT.\n",
            "\n",
            "Increase the number of iterations (max_iter) or scale the data as shown in:\n",
            "    https://scikit-learn.org/stable/modules/preprocessing.html\n",
            "Please also refer to the documentation for alternative solver options:\n",
            "    https://scikit-learn.org/stable/modules/linear_model.html#logistic-regression\n",
            "  extra_warning_msg=_LOGISTIC_SOLVER_CONVERGENCE_MSG)\n"
          ],
          "name": "stderr"
        },
        {
          "output_type": "stream",
          "text": [
            "test model 2|"
          ],
          "name": "stdout"
        },
        {
          "output_type": "stream",
          "text": [
            "/usr/local/lib/python3.6/dist-packages/sklearn/linear_model/_logistic.py:940: ConvergenceWarning: lbfgs failed to converge (status=1):\n",
            "STOP: TOTAL NO. of ITERATIONS REACHED LIMIT.\n",
            "\n",
            "Increase the number of iterations (max_iter) or scale the data as shown in:\n",
            "    https://scikit-learn.org/stable/modules/preprocessing.html\n",
            "Please also refer to the documentation for alternative solver options:\n",
            "    https://scikit-learn.org/stable/modules/linear_model.html#logistic-regression\n",
            "  extra_warning_msg=_LOGISTIC_SOLVER_CONVERGENCE_MSG)\n"
          ],
          "name": "stderr"
        },
        {
          "output_type": "stream",
          "text": [
            "test model 3|"
          ],
          "name": "stdout"
        },
        {
          "output_type": "stream",
          "text": [
            "/usr/local/lib/python3.6/dist-packages/sklearn/linear_model/_logistic.py:940: ConvergenceWarning: lbfgs failed to converge (status=1):\n",
            "STOP: TOTAL NO. of ITERATIONS REACHED LIMIT.\n",
            "\n",
            "Increase the number of iterations (max_iter) or scale the data as shown in:\n",
            "    https://scikit-learn.org/stable/modules/preprocessing.html\n",
            "Please also refer to the documentation for alternative solver options:\n",
            "    https://scikit-learn.org/stable/modules/linear_model.html#logistic-regression\n",
            "  extra_warning_msg=_LOGISTIC_SOLVER_CONVERGENCE_MSG)\n"
          ],
          "name": "stderr"
        },
        {
          "output_type": "stream",
          "text": [
            "test model 4|"
          ],
          "name": "stdout"
        },
        {
          "output_type": "stream",
          "text": [
            "/usr/local/lib/python3.6/dist-packages/sklearn/linear_model/_logistic.py:940: ConvergenceWarning: lbfgs failed to converge (status=1):\n",
            "STOP: TOTAL NO. of ITERATIONS REACHED LIMIT.\n",
            "\n",
            "Increase the number of iterations (max_iter) or scale the data as shown in:\n",
            "    https://scikit-learn.org/stable/modules/preprocessing.html\n",
            "Please also refer to the documentation for alternative solver options:\n",
            "    https://scikit-learn.org/stable/modules/linear_model.html#logistic-regression\n",
            "  extra_warning_msg=_LOGISTIC_SOLVER_CONVERGENCE_MSG)\n"
          ],
          "name": "stderr"
        },
        {
          "output_type": "stream",
          "text": [
            "completed!\n"
          ],
          "name": "stdout"
        },
        {
          "output_type": "execute_result",
          "data": {
            "text/plain": [
              "{'score matrix': array([0.55266154, 0.5554    , 0.55493846, 0.55472308]),\n",
              " 'test score matrix': array([0.5507 , 0.55244, 0.55102, 0.5513 ])}"
            ]
          },
          "metadata": {
            "tags": []
          },
          "execution_count": 67
        }
      ]
    },
    {
      "cell_type": "code",
      "metadata": {
        "id": "Vf-jaGXOksgW"
      },
      "source": [
        "pca_dim = [10, 25, 50, 100, 200]\n",
        "\n",
        "full_score_matrix = np.array([[0.19476, 0.43174], \n",
        "                              [0.26068, 0.47726],\n",
        "                              [0.22856, 0.50348],\n",
        "                              [0.23134, 0.5226 ],\n",
        "                              [0.19844, 0.54184]]).T"
      ],
      "execution_count": null,
      "outputs": []
    },
    {
      "cell_type": "code",
      "metadata": {
        "colab": {
          "base_uri": "https://localhost:8080/",
          "height": 296
        },
        "id": "6avD7VzdoblC",
        "outputId": "f656122f-fb2c-4331-8745-e88cd4e8bae9"
      },
      "source": [
        "plt.plot(pca_dim, full_score_matrix[0], 'r', label=\"SVM\")\n",
        "plt.plot(pca_dim, full_score_matrix[1], 'b', label=\"Logistic Regression\")\n",
        "plt.title('PCA dim')\n",
        "plt.legend(loc=\"center right\")\n",
        "plt.xlabel('n_component')\n",
        "plt.ylabel('F1')\n",
        "plt.savefig(\"PCAdim\")"
      ],
      "execution_count": null,
      "outputs": [
        {
          "output_type": "display_data",
          "data": {
            "image/png": "[encoded data removed]",
            "text/plain": [
              "<Figure size 432x288 with 1 Axes>"
            ]
          },
          "metadata": {
            "tags": [],
            "needs_background": "light"
          }
        }
      ]
    },
    {
      "cell_type": "code",
      "metadata": {
        "colab": {
          "base_uri": "https://localhost:8080/",
          "height": 34
        },
        "id": "nFGkHBZcveFN",
        "outputId": "bf377552-168e-4f58-eecb-6215f13d3ea3"
      },
      "source": [
        "plt.show()"
      ],
      "execution_count": null,
      "outputs": [
        {
          "output_type": "display_data",
          "data": {
            "text/plain": [
              "<Figure size 432x288 with 0 Axes>"
            ]
          },
          "metadata": {
            "tags": []
          }
        }
      ]
    },
    {
      "cell_type": "code",
      "metadata": {
        "colab": {
          "base_uri": "https://localhost:8080/"
        },
        "id": "l7Ob3YPJn3ck",
        "outputId": "1053db89-de91-4d9e-c0f3-7dfc1f3abe67"
      },
      "source": [
        "full_score_matrix"
      ],
      "execution_count": null,
      "outputs": [
        {
          "output_type": "execute_result",
          "data": {
            "text/plain": [
              "array([[0.19476, 0.26068, 0.22856, 0.23134, 0.19844],\n",
              "       [0.43174, 0.47726, 0.50348, 0.5226 , 0.54184]])"
            ]
          },
          "metadata": {
            "tags": []
          },
          "execution_count": 88
        }
      ]
    },
    {
      "cell_type": "code",
      "metadata": {
        "id": "sTfqWmzZekp6"
      },
      "source": [
        "import matplotlib.pyplot as plt"
      ],
      "execution_count": null,
      "outputs": []
    },
    {
      "cell_type": "code",
      "metadata": {
        "id": "9vWTUuWyZxpG"
      },
      "source": [
        "test_scores = [0.24286, 0.23908, 0.26312, 0.25198, 0.2517 , 0.24672, 0.21096, \n",
        "               0.23616, 0.22624, 0.21932, 0.20348, 0.2065 ]\n",
        "#max iter 5\n",
        "\n",
        "test_scores_5 = test_scores[::3]\n",
        "test_scores_10 = test_scores[1::3]\n",
        "test_scores_15 = test_scores[2::3]"
      ],
      "execution_count": null,
      "outputs": []
    },
    {
      "cell_type": "code",
      "metadata": {
        "colab": {
          "base_uri": "https://localhost:8080/",
          "height": 295
        },
        "id": "-prqwIhIfHya",
        "outputId": "de3b5bda-2e96-45d4-ee4b-8bed79c4aa30"
      },
      "source": [
        "plt.plot(svm_params[\"C\"], test_scores_5, 'r', label=\"max_iter=5\")\n",
        "plt.plot(svm_params[\"C\"], test_scores_10, 'b', label=\"max_iter=10\")\n",
        "plt.plot(svm_params[\"C\"], test_scores_15, 'g', label=\"max_iter=15\")\n",
        "plt.title('SVM, PCA n_component=25')\n",
        "plt.legend(loc=\"upper right\")\n",
        "plt.xlabel('C')\n",
        "plt.ylabel('F1')\n",
        "plt.savefig(\"SVM\")"
      ],
      "execution_count": null,
      "outputs": [
        {
          "output_type": "display_data",
          "data": {
            "image/png": "[encoded data removed]",
            "text/plain": [
              "<Figure size 432x288 with 1 Axes>"
            ]
          },
          "metadata": {
            "tags": [],
            "needs_background": "light"
          }
        }
      ]
    },
    {
      "cell_type": "code",
      "metadata": {
        "colab": {
          "base_uri": "https://localhost:8080/",
          "height": 34
        },
        "id": "IQjoEHY9vxH-",
        "outputId": "25c7befe-e5c5-4721-88aa-0bb797e42719"
      },
      "source": [
        "plt.show()"
      ],
      "execution_count": null,
      "outputs": [
        {
          "output_type": "display_data",
          "data": {
            "text/plain": [
              "<Figure size 432x288 with 0 Axes>"
            ]
          },
          "metadata": {
            "tags": []
          }
        }
      ]
    },
    {
      "cell_type": "code",
      "metadata": {
        "id": "WCGLcX6SeXuY"
      },
      "source": [
        "pca_log_dim = [50, 100, 150, 200, 250, 300, 350]\n",
        "\n",
        "full_log_score_matrix = np.array([[0.49992, 0.501  , 0.50102, 0.50076], \n",
        "                                  [0.52328, 0.52416, 0.52408, 0.52392],\n",
        "                                  [0.5322 , 0.53342, 0.53356, 0.53372],\n",
        "                                  [0.5384 , 0.54036, 0.54028, 0.53956],\n",
        "                                  [0.5418 , 0.5452 , 0.5446 , 0.54508],\n",
        "                                  [0.54886, 0.5508 , 0.55048, 0.5512 ],\n",
        "                                  [0.5507 , 0.55244, 0.55102, 0.5513 ]]).T"
      ],
      "execution_count": null,
      "outputs": []
    },
    {
      "cell_type": "code",
      "metadata": {
        "colab": {
          "base_uri": "https://localhost:8080/",
          "height": 296
        },
        "id": "400xmM9OrFwi",
        "outputId": "d0781421-29b2-445d-cb3b-9ed36aa7a3f6"
      },
      "source": [
        "plt.plot(pca_log_dim, full_log_score_matrix[0], 'r', label=\"C=0.1\")\n",
        "plt.plot(pca_log_dim, full_log_score_matrix[1], 'b', label=\"C=1\")\n",
        "plt.plot(pca_log_dim, full_log_score_matrix[2], 'g', label=\"C=5\")\n",
        "plt.plot(pca_log_dim, full_log_score_matrix[3], 'y', label=\"C=10\")\n",
        "plt.title('Logistic Regression')\n",
        "plt.legend(loc=\"center right\")\n",
        "plt.xlabel('n_component')\n",
        "plt.ylabel('F1')\n",
        "plt.savefig(\"Logistic Regression\")"
      ],
      "execution_count": null,
      "outputs": [
        {
          "output_type": "display_data",
          "data": {
            "image/png": "[encoded data removed]",
            "text/plain": [
              "<Figure size 432x288 with 1 Axes>"
            ]
          },
          "metadata": {
            "tags": [],
            "needs_background": "light"
          }
        }
      ]
    },
    {
      "cell_type": "code",
      "metadata": {
        "colab": {
          "base_uri": "https://localhost:8080/",
          "height": 34
        },
        "id": "MygMU516v_JG",
        "outputId": "e1b5a927-e0b0-4c23-ea47-5ba4f5f5fa9f"
      },
      "source": [
        "plt.show()"
      ],
      "execution_count": null,
      "outputs": [
        {
          "output_type": "display_data",
          "data": {
            "text/plain": [
              "<Figure size 432x288 with 0 Axes>"
            ]
          },
          "metadata": {
            "tags": []
          }
        }
      ]
    }
  ]
}